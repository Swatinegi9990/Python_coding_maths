{
  "nbformat": 4,
  "nbformat_minor": 0,
  "metadata": {
    "colab": {
      "name": "Math_coding.ipynb",
      "provenance": [],
      "collapsed_sections": []
    },
    "kernelspec": {
      "name": "python3",
      "display_name": "Python 3"
    },
    "language_info": {
      "name": "python"
    }
  },
  "cells": [
    {
      "cell_type": "code",
      "source": [
        "from sympy import symbols, solve\n",
        "z=symbols(\"z\")\n",
        "expr=50*(3*z)+20*(5*z)+10*(25-8*z)-590\n",
        "Value= solve(expr)\n",
        "Value=[i*3 for i in Value]\n",
        "Value=Value+[Value[0]*5/3]\n",
        "Value=Value+[25-Value[0]*8/3]\n",
        "\n",
        "\n",
        "print(Value)"
      ],
      "metadata": {
        "colab": {
          "base_uri": "https://localhost:8080/"
        },
        "id": "sC1EFHFRrZxB",
        "outputId": "026331a0-398c-46fa-dc35-15530b8cdd5a"
      },
      "execution_count": null,
      "outputs": [
        {
          "output_type": "stream",
          "name": "stdout",
          "text": [
            "[6, 10, 9]\n"
          ]
        }
      ]
    },
    {
      "cell_type": "code",
      "source": [
        "from sympy import symbols, solve\n",
        "\n",
        "p=symbols(\"p\")\n",
        "Equation=100*p+25*(63-p)-3000\n",
        "Winners=solve(Equation)\n",
        "\n",
        "print(Winners)"
      ],
      "metadata": {
        "colab": {
          "base_uri": "https://localhost:8080/"
        },
        "id": "jgvTqyQbtbZ3",
        "outputId": "6daa9bb4-d163-4aea-d53d-e496f38b2e50"
      },
      "execution_count": null,
      "outputs": [
        {
          "output_type": "stream",
          "name": "stdout",
          "text": [
            "[19]\n"
          ]
        }
      ]
    },
    {
      "cell_type": "code",
      "source": [
        "from sympy import symbols, solve\n",
        "\n",
        "y=symbols(\"y\")\n",
        "Exp=11*(y+(y+1)+(y+2))-363\n",
        "\n",
        "Val=solve(Exp)\n",
        "Val=Val+[Val[0]+1]\n",
        "Val=Val+[Val[0]+2]\n",
        "\n",
        "anss=[i*11 for i in Val] \n",
        "\n",
        "print(anss)"
      ],
      "metadata": {
        "colab": {
          "base_uri": "https://localhost:8080/"
        },
        "id": "sHYpkFD0keRM",
        "outputId": "fd421356-82ae-4b31-af39-64ab6976de7a"
      },
      "execution_count": null,
      "outputs": [
        {
          "output_type": "stream",
          "name": "stdout",
          "text": [
            "[110, 121, 132]\n"
          ]
        }
      ]
    },
    {
      "cell_type": "code",
      "source": [
        "from sympy import symbols, Eq, solve\n",
        "\n",
        "a,b=symbols(\"a b\")\n",
        "eq1=Eq(a-b-3)\n",
        "eq2=Eq((10*b+a)+(10*a+b)-143)\n",
        "sol=solve((eq1,eq2),(a,b))\n",
        "\n",
        "print(sol)"
      ],
      "metadata": {
        "colab": {
          "base_uri": "https://localhost:8080/"
        },
        "id": "wHU7mKtbo7c2",
        "outputId": "af74cdda-6853-427b-cfb0-017f3fc984a3"
      },
      "execution_count": null,
      "outputs": [
        {
          "output_type": "stream",
          "name": "stdout",
          "text": [
            "{a: 8, b: 5}\n"
          ]
        },
        {
          "output_type": "stream",
          "name": "stderr",
          "text": [
            "/usr/local/lib/python3.7/dist-packages/sympy/core/relational.py:496: SymPyDeprecationWarning: \n",
            "\n",
            "Eq(expr) with rhs default to 0 has been deprecated since SymPy 1.5.\n",
            "Use Eq(expr, 0) instead. See\n",
            "https://github.com/sympy/sympy/issues/16587 for more info.\n",
            "\n",
            "  deprecated_since_version=\"1.5\"\n"
          ]
        }
      ]
    },
    {
      "cell_type": "code",
      "source": [
        "from sympy import symbols, solve\n",
        "x1=2\n",
        "x2=100\n",
        "approximate_change=((1/x1**2)-(1/x2**2))/(1/(x2**2))\n",
        "print(approximate_change)"
      ],
      "metadata": {
        "colab": {
          "base_uri": "https://localhost:8080/"
        },
        "id": "P1-ir87L2eGE",
        "outputId": "7b6c202a-10fe-40f6-d690-af49308ee09d"
      },
      "execution_count": null,
      "outputs": [
        {
          "output_type": "stream",
          "name": "stdout",
          "text": [
            "2499.0\n"
          ]
        }
      ]
    },
    {
      "cell_type": "code",
      "source": [
        "from sympy import symbols, solve\n",
        "\n",
        "x=symbols(\"x\")\n",
        "expression=5*x-2*(2*x-7)-2*(3*x-1)-(7/2)\n",
        "\n",
        "ans=solve(expression)\n",
        "print(ans)"
      ],
      "metadata": {
        "colab": {
          "base_uri": "https://localhost:8080/"
        },
        "id": "to0hnWLwkWuR",
        "outputId": "6103de5d-dbd0-4886-bacb-3eeb5f8a7100"
      },
      "execution_count": null,
      "outputs": [
        {
          "output_type": "stream",
          "name": "stdout",
          "text": [
            "[2.50000000000000]\n"
          ]
        }
      ]
    },
    {
      "cell_type": "code",
      "source": [
        "import numpy as np\n",
        "A=np.array([[10,5,4],\n",
        "           [20,30,40],\n",
        "           [40,10,70]])\n",
        "B=np.array([[212],\n",
        "           [920],\n",
        "           [810]])\n",
        "invA=np.linalg.inv(A)\n",
        "\n",
        "Result=np.dot(invA,B)\n",
        "print(Result)"
      ],
      "metadata": {
        "colab": {
          "base_uri": "https://localhost:8080/"
        },
        "id": "5Xuz-eUdkiKC",
        "outputId": "91dff247-5ba1-4139-f3b0-873bde4d8dcd"
      },
      "execution_count": null,
      "outputs": [
        {
          "output_type": "stream",
          "name": "stdout",
          "text": [
            "[[10.]\n",
            " [20.]\n",
            " [ 3.]]\n"
          ]
        }
      ]
    }
  ]
}